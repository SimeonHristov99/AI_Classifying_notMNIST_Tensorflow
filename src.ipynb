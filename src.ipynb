{
  "nbformat": 4,
  "nbformat_minor": 0,
  "metadata": {
    "colab": {
      "name": "solution_hw2.ipynb",
      "provenance": [],
      "collapsed_sections": [],
      "include_colab_link": true
    },
    "kernelspec": {
      "display_name": "Python 3",
      "language": "python",
      "name": "python3"
    },
    "language_info": {
      "codemirror_mode": {
        "name": "ipython",
        "version": 3
      },
      "file_extension": ".py",
      "mimetype": "text/x-python",
      "name": "python",
      "nbconvert_exporter": "python",
      "pygments_lexer": "ipython3",
      "version": "3.6.5"
    }
  },
  "cells": [
    {
      "cell_type": "markdown",
      "metadata": {
        "id": "view-in-github",
        "colab_type": "text"
      },
      "source": [
        "<a href=\"https://colab.research.google.com/github/SimeonHristov99/AI_notMNIST_Tensorflow/blob/main/src.ipynb\" target=\"_parent\"><img src=\"https://colab.research.google.com/assets/colab-badge.svg\" alt=\"Open In Colab\"/></a>"
      ]
    },
    {
      "cell_type": "markdown",
      "metadata": {
        "id": "4embtkV0pNxM"
      },
      "source": [
        "Deep Learning with Tensorflow\n",
        "=============\n",
        "\n",
        "Assignment II - Convolutional Neural Networks\n",
        "------------\n",
        "\n",
        "Previously in `20210322-lab-1-notmnist.ipynb`, we created a pickle with formatted datasets for training, development and testing on the [notMNIST dataset](http://yaroslavvb.blogspot.com/2011/09/notmnist-dataset.html).\n",
        "\n",
        "The goal of this assignment is make the neural network convolutional."
      ]
    },
    {
      "cell_type": "code",
      "metadata": {
        "id": "wj2cf8zDbcZS",
        "colab": {
          "base_uri": "https://localhost:8080/"
        },
        "outputId": "f274007f-96cb-43e1-cd21-29170b3ff7f7"
      },
      "source": [
        "!wget https://gist.githubusercontent.com/nktaushanov/7aa762a4e1370b5ad287e87595c6499e/raw/4e6ee948d963d4efe16a9452036c6e380d0b30db/download_notmnist.py"
      ],
      "execution_count": 1,
      "outputs": [
        {
          "output_type": "stream",
          "text": [
            "--2021-06-03 09:15:32--  https://gist.githubusercontent.com/nktaushanov/7aa762a4e1370b5ad287e87595c6499e/raw/4e6ee948d963d4efe16a9452036c6e380d0b30db/download_notmnist.py\n",
            "Resolving gist.githubusercontent.com (gist.githubusercontent.com)... 185.199.109.133, 185.199.111.133, 185.199.110.133, ...\n",
            "Connecting to gist.githubusercontent.com (gist.githubusercontent.com)|185.199.109.133|:443... connected.\n",
            "HTTP request sent, awaiting response... 200 OK\n",
            "Length: 7285 (7.1K) [text/plain]\n",
            "Saving to: ‘download_notmnist.py’\n",
            "\n",
            "\rdownload_notmnist.p   0%[                    ]       0  --.-KB/s               \rdownload_notmnist.p 100%[===================>]   7.11K  --.-KB/s    in 0s      \n",
            "\n",
            "2021-06-03 09:15:32 (61.8 MB/s) - ‘download_notmnist.py’ saved [7285/7285]\n",
            "\n"
          ],
          "name": "stdout"
        }
      ]
    },
    {
      "cell_type": "code",
      "metadata": {
        "id": "zjfyVXkPbfiy",
        "colab": {
          "base_uri": "https://localhost:8080/"
        },
        "outputId": "659bf79f-d14f-4fac-93b3-279f1545ab91"
      },
      "source": [
        "import download_notmnist\n",
        "train_dataset, train_labels, test_dataset, test_labels, valid_dataset, valid_labels = download_notmnist.run()\n",
        "print('Training set', train_dataset.shape, train_labels.shape)\n",
        "print('Validation set', valid_dataset.shape, valid_labels.shape)\n",
        "print('Test set', test_dataset.shape, test_labels.shape)"
      ],
      "execution_count": 2,
      "outputs": [
        {
          "output_type": "stream",
          "text": [
            "Attempting to download: notMNIST_large.tar.gz\n",
            "0%....5%....10%....15%....20%....25%....30%....35%....40%....45%....50%....55%....60%....65%....70%....75%....80%....85%....90%....95%....100%\n",
            "Download Complete!\n",
            "Found and verified ./notMNIST_large.tar.gz\n",
            "Attempting to download: notMNIST_small.tar.gz\n",
            "0%....5%....10%....15%....20%....25%....30%....35%....40%....45%....50%....55%....60%....65%....70%....75%....80%....85%....90%....95%....100%\n",
            "Download Complete!\n",
            "Found and verified ./notMNIST_small.tar.gz\n",
            "Extracting data for ./notMNIST_large. This may take a while. Please wait.\n",
            "['./notMNIST_large/A', './notMNIST_large/B', './notMNIST_large/C', './notMNIST_large/D', './notMNIST_large/E', './notMNIST_large/F', './notMNIST_large/G', './notMNIST_large/H', './notMNIST_large/I', './notMNIST_large/J']\n",
            "Extracting data for ./notMNIST_small. This may take a while. Please wait.\n",
            "['./notMNIST_small/A', './notMNIST_small/B', './notMNIST_small/C', './notMNIST_small/D', './notMNIST_small/E', './notMNIST_small/F', './notMNIST_small/G', './notMNIST_small/H', './notMNIST_small/I', './notMNIST_small/J']\n",
            "Pickling ./notMNIST_large/A.pickle.\n",
            "./notMNIST_large/A\n",
            "Could not read: ./notMNIST_large/A/SG90IE11c3RhcmQgQlROIFBvc3Rlci50dGY=.png : Could not find a format to read the specified file in mode 'i' - it's ok, skipping.\n",
            "Could not read: ./notMNIST_large/A/RnJlaWdodERpc3BCb29rSXRhbGljLnR0Zg==.png : Could not find a format to read the specified file in mode 'i' - it's ok, skipping.\n",
            "Could not read: ./notMNIST_large/A/Um9tYW5hIEJvbGQucGZi.png : Could not find a format to read the specified file in mode 'i' - it's ok, skipping.\n",
            "Full dataset tensor: (52909, 28, 28)\n",
            "Mean: -0.1282502\n",
            "Standard deviation: 0.44312063\n",
            "Pickling ./notMNIST_large/B.pickle.\n",
            "./notMNIST_large/B\n",
            "Could not read: ./notMNIST_large/B/TmlraXNFRi1TZW1pQm9sZEl0YWxpYy5vdGY=.png : Could not find a format to read the specified file in mode 'i' - it's ok, skipping.\n",
            "Full dataset tensor: (52911, 28, 28)\n",
            "Mean: -0.0075630383\n",
            "Standard deviation: 0.45449147\n",
            "Pickling ./notMNIST_large/C.pickle.\n",
            "./notMNIST_large/C\n",
            "Full dataset tensor: (52912, 28, 28)\n",
            "Mean: -0.14225791\n",
            "Standard deviation: 0.43980643\n",
            "Pickling ./notMNIST_large/D.pickle.\n",
            "./notMNIST_large/D\n",
            "Could not read: ./notMNIST_large/D/VHJhbnNpdCBCb2xkLnR0Zg==.png : Could not find a format to read the specified file in mode 'i' - it's ok, skipping.\n",
            "Full dataset tensor: (52911, 28, 28)\n",
            "Mean: -0.057367694\n",
            "Standard deviation: 0.4556477\n",
            "Pickling ./notMNIST_large/E.pickle.\n",
            "./notMNIST_large/E\n",
            "Full dataset tensor: (52912, 28, 28)\n",
            "Mean: -0.069898926\n",
            "Standard deviation: 0.45294186\n",
            "Pickling ./notMNIST_large/F.pickle.\n",
            "./notMNIST_large/F\n",
            "Full dataset tensor: (52912, 28, 28)\n",
            "Mean: -0.1255832\n",
            "Standard deviation: 0.44708928\n",
            "Pickling ./notMNIST_large/G.pickle.\n",
            "./notMNIST_large/G\n",
            "Full dataset tensor: (52912, 28, 28)\n",
            "Mean: -0.094581656\n",
            "Standard deviation: 0.44623974\n",
            "Pickling ./notMNIST_large/H.pickle.\n",
            "./notMNIST_large/H\n",
            "Full dataset tensor: (52912, 28, 28)\n",
            "Mean: -0.06852215\n",
            "Standard deviation: 0.4542318\n",
            "Pickling ./notMNIST_large/I.pickle.\n",
            "./notMNIST_large/I\n",
            "Full dataset tensor: (52912, 28, 28)\n",
            "Mean: 0.03078624\n",
            "Standard deviation: 0.4688987\n",
            "Pickling ./notMNIST_large/J.pickle.\n",
            "./notMNIST_large/J\n",
            "Full dataset tensor: (52911, 28, 28)\n",
            "Mean: -0.15335853\n",
            "Standard deviation: 0.44365618\n",
            "Pickling ./notMNIST_small/A.pickle.\n",
            "./notMNIST_small/A\n",
            "Could not read: ./notMNIST_small/A/RGVtb2NyYXRpY2FCb2xkT2xkc3R5bGUgQm9sZC50dGY=.png : Could not find a format to read the specified file in mode 'i' - it's ok, skipping.\n",
            "Full dataset tensor: (1872, 28, 28)\n",
            "Mean: -0.13262641\n",
            "Standard deviation: 0.44512796\n",
            "Pickling ./notMNIST_small/B.pickle.\n",
            "./notMNIST_small/B\n",
            "Full dataset tensor: (1873, 28, 28)\n",
            "Mean: 0.0053560836\n",
            "Standard deviation: 0.45711535\n",
            "Pickling ./notMNIST_small/C.pickle.\n",
            "./notMNIST_small/C\n",
            "Full dataset tensor: (1873, 28, 28)\n",
            "Mean: -0.14152056\n",
            "Standard deviation: 0.44269028\n",
            "Pickling ./notMNIST_small/D.pickle.\n",
            "./notMNIST_small/D\n",
            "Full dataset tensor: (1873, 28, 28)\n",
            "Mean: -0.049216673\n",
            "Standard deviation: 0.45975894\n",
            "Pickling ./notMNIST_small/E.pickle.\n",
            "./notMNIST_small/E\n",
            "Full dataset tensor: (1873, 28, 28)\n",
            "Mean: -0.059914753\n",
            "Standard deviation: 0.45734963\n",
            "Pickling ./notMNIST_small/F.pickle.\n",
            "./notMNIST_small/F\n",
            "Could not read: ./notMNIST_small/F/Q3Jvc3NvdmVyIEJvbGRPYmxpcXVlLnR0Zg==.png : Could not find a format to read the specified file in mode 'i' - it's ok, skipping.\n",
            "Full dataset tensor: (1872, 28, 28)\n",
            "Mean: -0.118185334\n",
            "Standard deviation: 0.45227867\n",
            "Pickling ./notMNIST_small/G.pickle.\n",
            "./notMNIST_small/G\n",
            "Full dataset tensor: (1872, 28, 28)\n",
            "Mean: -0.09255032\n",
            "Standard deviation: 0.44900584\n",
            "Pickling ./notMNIST_small/H.pickle.\n",
            "./notMNIST_small/H\n",
            "Full dataset tensor: (1872, 28, 28)\n",
            "Mean: -0.05868924\n",
            "Standard deviation: 0.4587589\n",
            "Pickling ./notMNIST_small/I.pickle.\n",
            "./notMNIST_small/I\n",
            "Full dataset tensor: (1872, 28, 28)\n",
            "Mean: 0.05264508\n",
            "Standard deviation: 0.47189352\n",
            "Pickling ./notMNIST_small/J.pickle.\n",
            "./notMNIST_small/J\n",
            "Full dataset tensor: (1872, 28, 28)\n",
            "Mean: -0.1516892\n",
            "Standard deviation: 0.44801357\n",
            "Training: (200000, 28, 28) (200000,)\n",
            "Validation: (10000, 28, 28) (10000,)\n",
            "Testing: (10000, 28, 28) (10000,)\n",
            "Training set (200000, 28, 28) (200000,)\n",
            "Validation set (10000, 28, 28) (10000,)\n",
            "Test set (10000, 28, 28) (10000,)\n"
          ],
          "name": "stdout"
        }
      ]
    },
    {
      "cell_type": "code",
      "metadata": {
        "cellView": "both",
        "id": "tm2CQN_Cpwj0"
      },
      "source": [
        "# These are all the modules we'll be using later. Make sure you can import them\n",
        "# before proceeding further.\n",
        "from __future__ import print_function\n",
        "import numpy as np\n",
        "import tensorflow as tf\n",
        "from six.moves import cPickle as pickle\n",
        "from six.moves import range"
      ],
      "execution_count": 3,
      "outputs": []
    },
    {
      "cell_type": "markdown",
      "metadata": {
        "id": "HO850Ln3tbe4"
      },
      "source": [
        "## Let's check what the training set looks like."
      ]
    },
    {
      "cell_type": "code",
      "metadata": {
        "colab": {
          "base_uri": "https://localhost:8080/",
          "height": 223
        },
        "id": "l9qTI_m0theY",
        "outputId": "34eeb2d5-02ac-4f11-c9df-83c32307f6ca"
      },
      "source": [
        "import matplotlib.pyplot as plt\n",
        "\n",
        "for i in range(10):\n",
        "  plt.subplot(2, 5, i + 1)\n",
        "  sample_idx = np.random.randint(train_dataset.shape[0])\n",
        "  image = train_dataset[sample_idx]\n",
        "  plt.imshow(image, cmap='gray')\n",
        "  plt.axis('off')\n",
        "  plt.title(train_labels[sample_idx])\n",
        "\n",
        "plt.show()"
      ],
      "execution_count": 4,
      "outputs": [
        {
          "output_type": "display_data",
          "data": {
            "image/png": "[encoded data removed]",
            "text/plain": [
              "<Figure size 432x288 with 10 Axes>"
            ]
          },
          "metadata": {
            "tags": [],
            "needs_background": "light"
          }
        }
      ]
    },
    {
      "cell_type": "markdown",
      "metadata": {
        "id": "L7aHrm6nGDMB"
      },
      "source": [
        "Reformat into a TensorFlow-friendly shape:\n",
        "- convolutions need the image data formatted as a cube (width by height by #channels)\n",
        "- labels as float 1-hot encodings."
      ]
    },
    {
      "cell_type": "code",
      "metadata": {
        "cellView": "both",
        "id": "IRSyYiIIGIzS",
        "colab": {
          "base_uri": "https://localhost:8080/"
        },
        "outputId": "85d7a727-206e-4648-8538-aee099f8e0b9"
      },
      "source": [
        "image_size = 28\n",
        "num_labels = 10\n",
        "num_channels = 1 # grayscale\n",
        "\n",
        "def reformat(dataset, labels):\n",
        "  dataset = dataset.reshape((-1, image_size, image_size, num_channels)).astype(np.float32)\n",
        "  labels = (np.arange(num_labels) == labels[:,None]).astype(np.float32)\n",
        "  return dataset, labels\n",
        "\n",
        "train_dataset, train_labels = reformat(train_dataset, train_labels)\n",
        "valid_dataset, valid_labels = reformat(valid_dataset, valid_labels)\n",
        "test_dataset, test_labels = reformat(test_dataset, test_labels)\n",
        "\n",
        "print('Training set', train_dataset.shape, train_labels.shape)\n",
        "print('Validation set', valid_dataset.shape, valid_labels.shape)\n",
        "print('Test set', test_dataset.shape, test_labels.shape)"
      ],
      "execution_count": 5,
      "outputs": [
        {
          "output_type": "stream",
          "text": [
            "Training set (200000, 28, 28, 1) (200000, 10)\n",
            "Validation set (10000, 28, 28, 1) (10000, 10)\n",
            "Test set (10000, 28, 28, 1) (10000, 10)\n"
          ],
          "name": "stdout"
        }
      ]
    },
    {
      "cell_type": "markdown",
      "metadata": {
        "id": "WSBJpEHOwCHH"
      },
      "source": [
        "## Notes on shapes\n",
        "\n",
        " - 10 classes, representing letters 'A' .. 'J' .\n",
        " - 200_000 images each with width and height 28 x 28 for training.\n",
        " - 10_000 images each with width and height 28 x 28 for validating/model tuning.\n",
        " - 10_000 images each with width and height 28 x 28 for testing.\n",
        "\n",
        " - Each image has a depth of 1, because it's grayscale (black and white).\n",
        " - Each label is a vector with 10 coordinates - 1 for each class."
      ]
    },
    {
      "cell_type": "code",
      "metadata": {
        "cellView": "both",
        "id": "AgQDIREv02p1"
      },
      "source": [
        "def accuracy(predictions, labels):\n",
        "  return (100.0 *\n",
        "          np.sum(np.argmax(predictions, 1) == np.argmax(labels, 1))\n",
        "          / predictions.shape[0]\n",
        "          )"
      ],
      "execution_count": 6,
      "outputs": []
    },
    {
      "cell_type": "code",
      "metadata": {
        "id": "nwNkLqstiA6E"
      },
      "source": [
        "batch_size = 16\n",
        "train_tf_dataset = tf.data.Dataset.from_tensor_slices(\n",
        "    (train_dataset, train_labels)).shuffle(1000).batch(batch_size)"
      ],
      "execution_count": 7,
      "outputs": []
    },
    {
      "cell_type": "markdown",
      "metadata": {
        "id": "5rhgjmROXu2O"
      },
      "source": [
        "## Problem 1\n",
        "Let's build a small network with two convolutional layers, followed by one fully connected layer. Convolutional networks are more expensive computationally, so we'll limit its depth and number of fully connected nodes.\n",
        "\n",
        "Edit the snippet bellow by changing the `model` function.\n",
        "\n",
        "### 1.1 - Define the model\n",
        "Implement the `model` function bellow. Take a look at the following TF functions:\n",
        "- **tf.nn.conv2d(X,W1, strides = [1,s,s,1], padding = 'SAME'):** given an input $X$ and a group of filters $W1$, this function convolves $W1$'s filters on X. The third input ([1,f,f,1]) represents the strides for each dimension of the input (m, n_H_prev, n_W_prev, n_C_prev). You can read the full documentation [here](https://www.tensorflow.org/api_docs/python/tf/nn/conv2d)\n",
        "- **tf.nn.relu(Z1):** computes the elementwise ReLU of Z1 (which can be any shape). You can read the full documentation [here.](https://www.tensorflow.org/api_docs/python/tf/nn/relu)\n",
        "\n",
        "Define a simple network with:\n",
        " - 2 convolutional layers with 5x5 filters each using stride 2 and zero padding\n",
        " - one fully connected layer\n",
        " - return the logits (last layer)\n",
        "\n",
        "Notes on the shapes of variables:\n",
        "  - data (16, 28, 28, 1) = 16 images, each with dimensions 1x28x28\n",
        "  - L1 (16, 14, 14, 16) = 16 images, each with dimensions 16x14x14\n",
        "    - 16 is because we have 16 filters\n",
        "  - L2 (16, 7, 7, 16) = 16 images, each with dimensions 16x7x7"
      ]
    },
    {
      "cell_type": "code",
      "metadata": {
        "cellView": "both",
        "id": "IZYv70SvvOan"
      },
      "source": [
        "from math import floor\n",
        "\n",
        "kernel_size = 5\n",
        "num_filters = 16\n",
        "stride = 2\n",
        "\n",
        "size_after_w1 = floor((image_size - 1) / stride) + 1 # 14\n",
        "size_after_w2 = floor((size_after_w1 - 1) / stride) + 1 # 7\n",
        "\n",
        "W1 = tf.Variable(tf.random.truncated_normal(shape=(kernel_size, kernel_size, num_channels, num_filters), stddev=0.1))\n",
        "b1 = tf.Variable(tf.zeros((num_filters)))\n",
        "\n",
        "W2 = tf.Variable(tf.random.truncated_normal(shape=(kernel_size, kernel_size, num_filters, num_filters), stddev=0.1))\n",
        "b2 = tf.Variable(tf.zeros((num_filters)))\n",
        "\n",
        "W3 = tf.Variable(tf.random.truncated_normal(shape=(num_filters * size_after_w2 * size_after_w2, num_filters), stddev=0.1))\n",
        "b3 = tf.Variable(tf.zeros((1, num_filters)))\n",
        "\n",
        "W4 = tf.Variable(tf.random.truncated_normal(shape=(num_filters, num_labels), stddev=0.1))\n",
        "b4 = tf.Variable(tf.zeros((1, num_labels)))\n",
        "\n",
        "def model(data):\n",
        "  L1 = tf.nn.conv2d(data, W1, strides=[1, stride, stride, 1], padding='SAME')\n",
        "  L1 = tf.nn.relu(L1 + b1)\n",
        "  \n",
        "  L2 = tf.nn.conv2d(L1, W2, strides=[1, stride, stride, 1], padding='SAME')\n",
        "  L2 = tf.nn.relu(L2 + b2)\n",
        "\n",
        "  # flattening\n",
        "  L3 = tf.reshape(L2, shape=(L2.shape[0], L2.shape[1] * L2.shape[2] * L2.shape[3]))\n",
        "  L3 = tf.nn.relu(tf.matmul(L3, W3) + b3)\n",
        "  \n",
        "  return tf.matmul(L3, W4) + b4"
      ],
      "execution_count": 65,
      "outputs": []
    },
    {
      "cell_type": "markdown",
      "metadata": {
        "id": "PBt6URFR7oT4"
      },
      "source": [
        "\n",
        "### 1.2 - Compute loss\n",
        "\n",
        "Implement the `compute_loss` function below. You might find these two functions helpful: \n",
        "\n",
        "- **tf.nn.softmax_cross_entropy_with_logits(logits = Z3, labels = Y):** computes the softmax entropy loss. This function both computes the softmax activation function as well as the resulting loss. You can check the full documentation  [here.](https://www.tensorflow.org/api_docs/python/tf/nn/softmax_cross_entropy_with_logits)\n",
        "- **tf.reduce_mean:** computes the mean of elements across dimensions of a tensor. Use this to sum the losses over all the examples to get the overall cost. You can check the full documentation [here.](https://www.tensorflow.org/api_docs/python/tf/reduce_mean)"
      ]
    },
    {
      "cell_type": "code",
      "metadata": {
        "id": "9FJCT1x-7nwF"
      },
      "source": [
        "def compute_loss(labels, logits):\n",
        "  softmax = tf.nn.softmax_cross_entropy_with_logits(logits = logits, labels = labels)\n",
        "  return tf.reduce_mean(softmax)"
      ],
      "execution_count": 66,
      "outputs": []
    },
    {
      "cell_type": "markdown",
      "metadata": {
        "id": "ZkzpbHET-m8S"
      },
      "source": [
        "### 1.3 - Improve your model\n",
        "Try to achieve a test accuracy of around 80%."
      ]
    },
    {
      "cell_type": "code",
      "metadata": {
        "id": "duYGBpFQ6_G8"
      },
      "source": [
        "def train(num_steps=1000, kernel_size=5, display_step=100, learning_rate=0.05):\n",
        "  optimizer = tf.keras.optimizers.SGD(learning_rate)\n",
        "\n",
        "  # Run training for the given number of steps.\n",
        "  for step, (batch_x, batch_y) in enumerate(train_tf_dataset.take(num_steps), 1):  \n",
        "    # Training computation.\n",
        "    with tf.GradientTape() as g:\n",
        "      logits = model(batch_x)\n",
        "      loss = compute_loss(batch_y, logits)\n",
        "\n",
        "    # Optimizer.\n",
        "    optimizer.minimize(loss, g.watched_variables(), tape=g)\n",
        "    \n",
        "    # Predictions for the training, validation, and test data.\n",
        "    if step % display_step == 0:\n",
        "      train_prediction = tf.nn.softmax(logits)\n",
        "      train_acc = accuracy(train_prediction, batch_y)\n",
        "      \n",
        "      valid_prediction = tf.nn.softmax(model(valid_dataset))\n",
        "      valid_acc = accuracy(valid_prediction, valid_labels)\n",
        "      print(\"step: %i, loss: %f, train acc: %f, validation acc: %f\" % (step, loss, train_acc, valid_acc))\n",
        "\n",
        "  test_prediction = tf.nn.softmax(model(test_dataset))\n",
        "  test_acc = accuracy(test_prediction, test_labels)\n",
        "  return test_acc"
      ],
      "execution_count": 67,
      "outputs": []
    },
    {
      "cell_type": "markdown",
      "metadata": {
        "id": "Im2L-Vq2y-Lm"
      },
      "source": [
        "Iterate on the filters size."
      ]
    },
    {
      "cell_type": "code",
      "metadata": {
        "colab": {
          "base_uri": "https://localhost:8080/"
        },
        "id": "c72q4y4gscpv",
        "outputId": "8a941305-ef34-4bc8-ef64-38f6f12d5eef"
      },
      "source": [
        "num_filters = 16\n",
        "stride = 2\n",
        "\n",
        "size_after_w1 = floor((image_size - 1) / stride) + 1\n",
        "size_after_w2 = floor((size_after_w1 - 1) / stride) + 1\n",
        "\n",
        "for size in [2, 3, 4, 5, 6, 7, 8, 9, 10]:\n",
        "  W1 = tf.Variable(tf.random.truncated_normal(shape=(size, size, num_channels, num_filters), stddev=0.1))\n",
        "  b1 = tf.Variable(tf.zeros((num_filters)))\n",
        "\n",
        "  W2 = tf.Variable(tf.random.truncated_normal(shape=(size, size, num_filters, num_filters), stddev=0.1))\n",
        "  b2 = tf.Variable(tf.zeros((num_filters)))\n",
        "\n",
        "  W3 = tf.Variable(tf.random.truncated_normal(shape=(num_filters * size_after_w2 * size_after_w2, num_filters), stddev=0.1))\n",
        "  b3 = tf.Variable(tf.zeros((1, num_filters)))\n",
        "\n",
        "  W4 = tf.Variable(tf.random.truncated_normal(shape=(num_filters, num_labels), stddev=0.1))\n",
        "  b4 = tf.Variable(tf.zeros((1, num_labels)))\n",
        "\n",
        "  def model(data):\n",
        "    L1 = tf.nn.conv2d(data, W1, strides=[1, stride, stride, 1], padding='SAME')\n",
        "    L1 = tf.nn.relu(L1 + b1)\n",
        "    \n",
        "    L2 = tf.nn.conv2d(L1, W2, strides=[1, stride, stride, 1], padding='SAME')\n",
        "    L2 = tf.nn.relu(L2 + b2)\n",
        "\n",
        "    # flattening\n",
        "    L3 = tf.reshape(L2, shape=(L2.shape[0], L2.shape[1] * L2.shape[2] * L2.shape[3]))\n",
        "    L3 = tf.nn.relu(tf.matmul(L3, W3) + b3)\n",
        "    \n",
        "    return tf.matmul(L3, W4) + b4\n",
        "  \n",
        "  print(f'size = {size}')\n",
        "  test_acc = train(kernel_size=size)\n",
        "  print(f'test acc: {test_acc}\\n\\n')"
      ],
      "execution_count": 68,
      "outputs": [
        {
          "output_type": "stream",
          "text": [
            "size = 2\n",
            "step: 100, loss: 2.299111, train acc: 6.250000, validation acc: 15.410000\n",
            "step: 200, loss: 2.272431, train acc: 25.000000, validation acc: 23.530000\n",
            "step: 300, loss: 1.133077, train acc: 62.500000, validation acc: 59.660000\n",
            "step: 400, loss: 0.675857, train acc: 81.250000, validation acc: 71.080000\n",
            "step: 500, loss: 0.849243, train acc: 81.250000, validation acc: 78.300000\n",
            "step: 600, loss: 0.977154, train acc: 81.250000, validation acc: 77.750000\n",
            "step: 700, loss: 0.866905, train acc: 68.750000, validation acc: 76.140000\n",
            "step: 800, loss: 0.578988, train acc: 81.250000, validation acc: 80.250000\n",
            "step: 900, loss: 0.818487, train acc: 75.000000, validation acc: 80.210000\n",
            "step: 1000, loss: 0.601238, train acc: 81.250000, validation acc: 80.360000\n",
            "test acc: 87.36\n",
            "\n",
            "\n",
            "size = 3\n",
            "step: 100, loss: 1.993067, train acc: 31.250000, validation acc: 30.130000\n",
            "step: 200, loss: 0.702742, train acc: 81.250000, validation acc: 71.140000\n",
            "step: 300, loss: 0.817772, train acc: 81.250000, validation acc: 75.540000\n",
            "step: 400, loss: 1.230731, train acc: 50.000000, validation acc: 78.480000\n",
            "step: 500, loss: 0.450182, train acc: 93.750000, validation acc: 78.880000\n",
            "step: 600, loss: 0.535266, train acc: 81.250000, validation acc: 79.800000\n",
            "step: 700, loss: 0.782212, train acc: 75.000000, validation acc: 79.470000\n",
            "step: 800, loss: 0.918369, train acc: 75.000000, validation acc: 80.030000\n",
            "step: 900, loss: 0.853546, train acc: 81.250000, validation acc: 80.600000\n",
            "step: 1000, loss: 0.243962, train acc: 93.750000, validation acc: 80.960000\n",
            "test acc: 88.17\n",
            "\n",
            "\n",
            "size = 4\n",
            "step: 100, loss: 1.311387, train acc: 56.250000, validation acc: 43.140000\n",
            "step: 200, loss: 1.400460, train acc: 68.750000, validation acc: 74.140000\n",
            "step: 300, loss: 0.493581, train acc: 87.500000, validation acc: 76.850000\n",
            "step: 400, loss: 0.762693, train acc: 81.250000, validation acc: 77.950000\n",
            "step: 500, loss: 0.517503, train acc: 81.250000, validation acc: 77.390000\n",
            "step: 600, loss: 0.675590, train acc: 81.250000, validation acc: 79.130000\n",
            "step: 700, loss: 0.885420, train acc: 68.750000, validation acc: 79.890000\n",
            "step: 800, loss: 0.827397, train acc: 68.750000, validation acc: 81.090000\n",
            "step: 900, loss: 0.367824, train acc: 93.750000, validation acc: 81.260000\n",
            "step: 1000, loss: 0.523228, train acc: 81.250000, validation acc: 81.480000\n",
            "test acc: 88.62\n",
            "\n",
            "\n",
            "size = 5\n",
            "step: 100, loss: 1.240115, train acc: 68.750000, validation acc: 60.610000\n",
            "step: 200, loss: 0.869095, train acc: 81.250000, validation acc: 77.130000\n",
            "step: 300, loss: 1.165597, train acc: 75.000000, validation acc: 78.340000\n",
            "step: 400, loss: 0.781116, train acc: 75.000000, validation acc: 77.410000\n",
            "step: 500, loss: 0.680495, train acc: 75.000000, validation acc: 79.200000\n",
            "step: 600, loss: 0.366143, train acc: 87.500000, validation acc: 80.570000\n",
            "step: 700, loss: 0.327661, train acc: 87.500000, validation acc: 80.300000\n",
            "step: 800, loss: 0.965047, train acc: 62.500000, validation acc: 81.740000\n",
            "step: 900, loss: 0.553940, train acc: 81.250000, validation acc: 81.620000\n",
            "step: 1000, loss: 0.863172, train acc: 75.000000, validation acc: 81.700000\n",
            "test acc: 88.76\n",
            "\n",
            "\n",
            "size = 6\n",
            "step: 100, loss: 0.942476, train acc: 75.000000, validation acc: 69.500000\n",
            "step: 200, loss: 0.232226, train acc: 100.000000, validation acc: 76.060000\n",
            "step: 300, loss: 0.661071, train acc: 75.000000, validation acc: 77.750000\n",
            "step: 400, loss: 0.606784, train acc: 87.500000, validation acc: 79.740000\n",
            "step: 500, loss: 0.813299, train acc: 75.000000, validation acc: 81.310000\n",
            "step: 600, loss: 0.473226, train acc: 81.250000, validation acc: 80.720000\n",
            "step: 700, loss: 0.398288, train acc: 87.500000, validation acc: 82.090000\n",
            "step: 800, loss: 0.215956, train acc: 93.750000, validation acc: 82.700000\n",
            "step: 900, loss: 0.447714, train acc: 81.250000, validation acc: 82.750000\n",
            "step: 1000, loss: 0.477274, train acc: 81.250000, validation acc: 82.990000\n",
            "test acc: 89.85\n",
            "\n",
            "\n",
            "size = 7\n",
            "step: 100, loss: 0.607557, train acc: 81.250000, validation acc: 70.730000\n",
            "step: 200, loss: 0.796305, train acc: 68.750000, validation acc: 78.930000\n",
            "step: 300, loss: 0.216537, train acc: 100.000000, validation acc: 79.700000\n",
            "step: 400, loss: 0.542369, train acc: 81.250000, validation acc: 80.420000\n",
            "step: 500, loss: 0.568554, train acc: 87.500000, validation acc: 81.470000\n",
            "step: 600, loss: 0.772481, train acc: 81.250000, validation acc: 81.530000\n",
            "step: 700, loss: 0.758792, train acc: 81.250000, validation acc: 81.900000\n",
            "step: 800, loss: 0.300915, train acc: 93.750000, validation acc: 82.100000\n",
            "step: 900, loss: 0.486276, train acc: 81.250000, validation acc: 82.670000\n",
            "step: 1000, loss: 1.008223, train acc: 75.000000, validation acc: 83.810000\n",
            "test acc: 90.54\n",
            "\n",
            "\n",
            "size = 8\n",
            "step: 100, loss: 0.899847, train acc: 75.000000, validation acc: 66.310000\n",
            "step: 200, loss: 0.995777, train acc: 68.750000, validation acc: 72.330000\n",
            "step: 300, loss: 0.646078, train acc: 81.250000, validation acc: 78.370000\n",
            "step: 400, loss: 0.642486, train acc: 81.250000, validation acc: 79.200000\n",
            "step: 500, loss: 0.083396, train acc: 93.750000, validation acc: 81.040000\n",
            "step: 600, loss: 0.471690, train acc: 87.500000, validation acc: 80.640000\n",
            "step: 700, loss: 1.078003, train acc: 81.250000, validation acc: 81.460000\n",
            "step: 800, loss: 0.508662, train acc: 81.250000, validation acc: 81.220000\n",
            "step: 900, loss: 0.422733, train acc: 87.500000, validation acc: 81.950000\n",
            "step: 1000, loss: 0.348521, train acc: 81.250000, validation acc: 82.330000\n",
            "test acc: 89.44\n",
            "\n",
            "\n",
            "size = 9\n",
            "step: 100, loss: 0.718365, train acc: 87.500000, validation acc: 60.750000\n",
            "step: 200, loss: 0.743714, train acc: 81.250000, validation acc: 78.190000\n",
            "step: 300, loss: 0.596404, train acc: 87.500000, validation acc: 78.640000\n",
            "step: 400, loss: 0.662496, train acc: 87.500000, validation acc: 79.620000\n",
            "step: 500, loss: 0.677955, train acc: 75.000000, validation acc: 81.210000\n",
            "step: 600, loss: 0.392244, train acc: 87.500000, validation acc: 81.910000\n",
            "step: 700, loss: 0.658809, train acc: 81.250000, validation acc: 82.100000\n",
            "step: 800, loss: 1.729797, train acc: 68.750000, validation acc: 82.550000\n",
            "step: 900, loss: 0.383101, train acc: 81.250000, validation acc: 82.680000\n",
            "step: 1000, loss: 0.858304, train acc: 75.000000, validation acc: 83.610000\n",
            "test acc: 90.01\n",
            "\n",
            "\n",
            "size = 10\n",
            "step: 100, loss: 0.590322, train acc: 81.250000, validation acc: 67.210000\n",
            "step: 200, loss: 0.691822, train acc: 81.250000, validation acc: 76.820000\n",
            "step: 300, loss: 0.328672, train acc: 81.250000, validation acc: 79.390000\n",
            "step: 400, loss: 0.958978, train acc: 75.000000, validation acc: 79.260000\n",
            "step: 500, loss: 0.192198, train acc: 93.750000, validation acc: 81.430000\n",
            "step: 600, loss: 0.463692, train acc: 81.250000, validation acc: 82.170000\n",
            "step: 700, loss: 0.339222, train acc: 87.500000, validation acc: 82.020000\n",
            "step: 800, loss: 1.103393, train acc: 56.250000, validation acc: 81.490000\n",
            "step: 900, loss: 0.333124, train acc: 87.500000, validation acc: 83.240000\n",
            "step: 1000, loss: 0.074552, train acc: 100.000000, validation acc: 83.880000\n",
            "test acc: 90.6\n",
            "\n",
            "\n"
          ],
          "name": "stdout"
        }
      ]
    },
    {
      "cell_type": "markdown",
      "metadata": {
        "id": "asei7vFLuYLX"
      },
      "source": [
        "### I managed to achieve and accuracy of 90.54% with a filter size of 7."
      ]
    },
    {
      "cell_type": "markdown",
      "metadata": {
        "id": "KedKkn4EutIK"
      },
      "source": [
        "---\n",
        "Problem 2\n",
        "---------\n",
        "\n",
        "The convolutional model above uses convolutions with stride 2 to reduce the dimensionality. Replace the strides by a max pooling operation (`nn.max_pool()`) of stride 2 and kernel size 2.\n",
        "\n",
        "---"
      ]
    },
    {
      "cell_type": "code",
      "metadata": {
        "colab": {
          "base_uri": "https://localhost:8080/"
        },
        "id": "RvK8uBhwsBOR",
        "outputId": "360ac8d0-ff21-440b-a89d-cb0f440b51b5"
      },
      "source": [
        "stride = 1\n",
        "kernel_size = 7\n",
        "\n",
        "size_after_w1 = floor(image_size / 2) # 14\n",
        "size_after_w2 = floor(size_after_w1 / 2) # 7\n",
        "\n",
        "W1 = tf.Variable(tf.random.truncated_normal(shape=(kernel_size, kernel_size, num_channels, num_filters), stddev=0.1))\n",
        "b1 = tf.Variable(tf.zeros((num_filters)))\n",
        "\n",
        "W2 = tf.Variable(tf.random.truncated_normal(shape=(kernel_size, kernel_size, num_filters, num_filters), stddev=0.1))\n",
        "b2 = tf.Variable(tf.zeros((num_filters)))\n",
        "\n",
        "W3 = tf.Variable(tf.random.truncated_normal(shape=(num_filters * size_after_w2 * size_after_w2, num_filters), stddev=0.1))\n",
        "b3 = tf.Variable(tf.zeros((1, num_filters)))\n",
        "\n",
        "W4 = tf.Variable(tf.random.truncated_normal(shape=(num_filters, num_labels), stddev=0.1))\n",
        "b4 = tf.Variable(tf.zeros((1, num_labels)))\n",
        "\n",
        "def model(data):\n",
        "  L1 = tf.nn.conv2d(data, W1, strides=[1, stride, stride, 1], padding='SAME')\n",
        "  L1 = tf.nn.relu(L1 + b1)\n",
        "  L1 = tf.nn.max_pool(L1, 2, 2, padding='SAME')\n",
        "  \n",
        "  L2 = tf.nn.conv2d(L1, W2, strides=[1, stride, stride, 1], padding='SAME')\n",
        "  L2 = tf.nn.relu(L2 + b2)\n",
        "  L2 = tf.nn.max_pool(L2, 2, 2, padding='SAME')\n",
        "\n",
        "  L3 = tf.reshape(L2, shape=(L2.shape[0], L2.shape[1] * L2.shape[2] * L2.shape[3])) # flattening\n",
        "  L3 = tf.nn.relu(tf.matmul(L3, W3) + b3)\n",
        "  \n",
        "  return tf.matmul(L3, W4) + b4\n",
        "\n",
        "test_acc = train(kernel_size=kernel_size)\n",
        "print(f'test acc: {test_acc}')"
      ],
      "execution_count": 83,
      "outputs": [
        {
          "output_type": "stream",
          "text": [
            "step: 100, loss: 0.824382, train acc: 75.000000, validation acc: 72.380000\n",
            "step: 200, loss: 0.453961, train acc: 93.750000, validation acc: 76.960000\n",
            "step: 300, loss: 0.788009, train acc: 62.500000, validation acc: 79.530000\n",
            "step: 400, loss: 0.997257, train acc: 87.500000, validation acc: 80.610000\n",
            "step: 500, loss: 0.773779, train acc: 81.250000, validation acc: 81.310000\n",
            "step: 600, loss: 0.952964, train acc: 81.250000, validation acc: 82.120000\n",
            "step: 700, loss: 0.380310, train acc: 81.250000, validation acc: 82.810000\n",
            "step: 800, loss: 0.746867, train acc: 81.250000, validation acc: 83.180000\n",
            "step: 900, loss: 0.583623, train acc: 75.000000, validation acc: 83.170000\n",
            "step: 1000, loss: 0.408147, train acc: 81.250000, validation acc: 83.570000\n",
            "test acc: 90.52\n"
          ],
          "name": "stdout"
        }
      ]
    },
    {
      "cell_type": "markdown",
      "metadata": {
        "id": "klf21gpbAgb-"
      },
      "source": [
        "---\n",
        "Problem 3\n",
        "---------\n",
        "\n",
        "Try to get the best performance you can using a convolutional net. Look for example at the classic [LeNet5](http://yann.lecun.com/exdb/lenet/) architecture, adding Dropout, and/or adding learning rate decay.\n",
        "\n",
        "---\n",
        "\n",
        "LeNet5 architecture:\n",
        "\n",
        "Layer                                     | Output Size    | Weight Size\n",
        ":---                                      | :---:          | :---:\n",
        "Input                                     | 1 x 28 x 28    |\n",
        "Conv (C<sub>out</sub>=20, K=5, P=2, S=1)  | 20 x 28 x 28   | 20 x 1 x 5 x 5\n",
        "ReLU                                      | 20 x 28 x 28   |\n",
        "MaxPool (K=2, S=2)                        | 20 x 14 x 14   |\n",
        "Conv (C<sub>out</sub>=50, K=5, P=2, S=1)  | 50 x 14 x 14   | 50 x 20 x 5 x 5\n",
        "ReLU                                      | 50 x 14 x 14   |\n",
        "MaxPool (K=2, S=2)                        | 50 x 7 x 7     |\n",
        "Flatten                                   | 2450           |\n",
        "Linear (2450 -> 500)                      | 500            | 2450 x 500\n",
        "ReLU                                      | 500            |\n",
        "Linear (500 -> 10)                        | 10             | 500 x 10"
      ]
    },
    {
      "cell_type": "code",
      "metadata": {
        "colab": {
          "base_uri": "https://localhost:8080/"
        },
        "id": "RBDbbCPNNm2B",
        "outputId": "fa30e9bf-13e7-4db3-d42a-bb5869dc551b"
      },
      "source": [
        "stride = 1\n",
        "kernel_size = 7\n",
        "\n",
        "num_filters_w1 = 20\n",
        "num_filters_w2 = 50\n",
        "\n",
        "size_after_w1 = floor(image_size / 2) # 14\n",
        "size_after_w2 = floor(size_after_w1 / 2) # 7\n",
        "size_after_w3 = 500\n",
        "\n",
        "############\n",
        "# Varaibles\n",
        "############\n",
        "\n",
        "W1 = tf.Variable(tf.random.truncated_normal(shape=(kernel_size, kernel_size, num_channels, num_filters_w1), stddev=0.1))\n",
        "b1 = tf.Variable(tf.zeros((num_filters_w1)))\n",
        "\n",
        "W2 = tf.Variable(tf.random.truncated_normal(shape=(kernel_size, kernel_size, num_filters_w1, num_filters_w2), stddev=0.1))\n",
        "b2 = tf.Variable(tf.zeros((num_filters_w2)))\n",
        "\n",
        "W3 = tf.Variable(tf.random.truncated_normal(shape=(num_filters_w2 * size_after_w2 * size_after_w2, size_after_w3), stddev=0.1))\n",
        "b3 = tf.Variable(tf.zeros((1, size_after_w3)))\n",
        "\n",
        "W4 = tf.Variable(tf.random.truncated_normal(shape=(size_after_w3, num_labels), stddev=0.1))\n",
        "b4 = tf.Variable(tf.zeros((1, num_labels)))\n",
        "\n",
        "\n",
        "############\n",
        "# Model\n",
        "############\n",
        "\n",
        "def model(data):\n",
        "  L1 = tf.nn.conv2d(data, W1, strides=[1, stride, stride, 1], padding='SAME')\n",
        "  L1 = tf.nn.relu(L1 + b1)\n",
        "  L1 = tf.nn.max_pool(L1, 2, 2, padding='SAME')\n",
        "  \n",
        "  L2 = tf.nn.conv2d(L1, W2, strides=[1, stride, stride, 1], padding='SAME')\n",
        "  L2 = tf.nn.relu(L2 + b2)\n",
        "  L2 = tf.nn.max_pool(L2, 2, 2, padding='SAME')\n",
        "\n",
        "  L3 = tf.reshape(L2, shape=(L2.shape[0], L2.shape[1] * L2.shape[2] * L2.shape[3])) # flattening\n",
        "  L3 = tf.nn.relu(tf.matmul(L3, W3) + b3)\n",
        "  \n",
        "  return tf.matmul(L3, W4) + b4\n",
        "\n",
        "test_acc = train(num_steps=3000, kernel_size=kernel_size, display_step=500)\n",
        "print(f'test acc: {test_acc}')"
      ],
      "execution_count": 88,
      "outputs": [
        {
          "output_type": "stream",
          "text": [
            "step: 500, loss: 0.643949, train acc: 75.000000, validation acc: 82.970000\n",
            "step: 1000, loss: 0.387973, train acc: 81.250000, validation acc: 85.160000\n",
            "step: 1500, loss: 0.664154, train acc: 87.500000, validation acc: 85.590000\n",
            "step: 2000, loss: 0.461078, train acc: 87.500000, validation acc: 86.830000\n",
            "step: 2500, loss: 0.125137, train acc: 100.000000, validation acc: 86.970000\n",
            "step: 3000, loss: 0.160405, train acc: 100.000000, validation acc: 87.520000\n",
            "test acc: 93.19\n"
          ],
          "name": "stdout"
        }
      ]
    },
    {
      "cell_type": "markdown",
      "metadata": {
        "id": "muP60Was8Ehf"
      },
      "source": [
        "---\n",
        "Problem 4\n",
        "---------\n",
        "\n",
        "Migrate your best model (with highest accuracy) to graph execution with tf.function instead of running in eager mode. Use tf.config.run_functions_eagerly to test and debug your code.\n",
        "\n",
        "---"
      ]
    }
  ]
}